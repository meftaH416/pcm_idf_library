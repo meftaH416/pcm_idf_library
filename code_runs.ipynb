{
 "cells": [
  {
   "cell_type": "markdown",
   "metadata": {},
   "source": [
    "# 1. Importing Libraries including custom made"
   ]
  },
  {
   "cell_type": "code",
   "execution_count": 1,
   "metadata": {},
   "outputs": [],
   "source": [
    "import os \n",
    "import subprocess\n",
    "# Change the current working directory\n",
    "os.chdir(\"C:\\\\Users\\\\Jayedi Aman\\\\Downloads\\\\BEM\\\\pcm_paper\")\n",
    "\n",
    "from pcm_class import IDF_EDITING\n",
    "from pcm_block import MaterialProperty\n",
    "from copy_to_path import copy_to_dir"
   ]
  },
  {
   "cell_type": "markdown",
   "metadata": {},
   "source": [
    "# 2. Copy file from one directorty and added extension to name and copied to other directory"
   ]
  },
  {
   "cell_type": "code",
   "execution_count": 2,
   "metadata": {},
   "outputs": [],
   "source": [
    "import os\n",
    "# # Paths\n",
    "# dir1 = r\"C:\\Users\\Jayedi Aman\\Downloads\\BEM\\ASHRAE901_OfficeMedium_STD2013\"\n",
    "# dir2 = r\"C:\\Users\\Jayedi Aman\\Downloads\\BEM\\ASHRAE_SO_2013\\mediumPCM28\"\n",
    "# copy_to_dir(dir1, dir2, file_type='idf', extension='_pcm28.')\n",
    "\n",
    "#  Testing with one file\n",
    "dir1 = r\"C:\\Users\\Jayedi Aman\\Downloads\\BEM\\pcm_paper\\pcm_idf\"\n",
    "dir2 = r\"C:\\Users\\Jayedi Aman\\Downloads\\BEM\\pcm_paper\\pcm_idf\\new\"\n",
    "copy_to_dir(dir1, dir2,file_type='idf', extension='_pcm28.')"
   ]
  },
  {
   "cell_type": "markdown",
   "metadata": {},
   "source": [
    "# 3. Finding idf file names in the directory"
   ]
  },
  {
   "cell_type": "code",
   "execution_count": 3,
   "metadata": {},
   "outputs": [
    {
     "name": "stdout",
     "output_type": "stream",
     "text": [
      "['ASHRAE901_OfficeMedium_STD2013_Fairbanks_pcm28.idf', 'ASHRAE901_OfficeMedium_STD2013_InternationalFalls_pcm28.idf', 'ASHRAE901_OfficeMedium_STD2013_Rochester_pcm28.idf']\n"
     ]
    }
   ],
   "source": [
    "## List of idf in a folder\n",
    "import os\n",
    "def idf_file_list(file_path):\n",
    "    # Import necessary libraries\n",
    "    import os, glob, shutil\n",
    "    # Change directory to old idf files to work with\n",
    "    os.chdir(file_path)\n",
    "\n",
    "    # Getting names of all idf files only\n",
    "    files = glob.glob(\"*.idf\")\n",
    "    return files\n",
    "\n",
    "file_path = r\"C:\\Users\\Jayedi Aman\\Downloads\\BEM\\pcm_paper\\pcm_idf\\new\"\n",
    "idf_files = idf_file_list(file_path)\n",
    "print(idf_files)"
   ]
  },
  {
   "cell_type": "code",
   "execution_count": 12,
   "metadata": {},
   "outputs": [
    {
     "name": "stdout",
     "output_type": "stream",
     "text": [
      "Walls: {'nonres_ext_wall_mid', 'nonres_ext_wall_top', 'int_wall', 'nonres_ext_wall_grd'}\n",
      "Roofs: {'nonres_roof'}\n",
      "Floors: {'Core_bot_ZN_5_Floor_Ffactor', 'Perimeter_bot_ZN_2_Floor_Ffactor', 'int_slab_floor', 'Perimeter_bot_ZN_3_Floor_Ffactor', 'Perimeter_bot_ZN_4_Floor_Ffactor', 'Perimeter_bot_ZN_1_Floor_Ffactor'}\n"
     ]
    }
   ],
   "source": [
    "## Find the name of wall/roof/floor\n",
    "idf_file = idf_files[0] # choose just any one of the idf file\n",
    "\n",
    "def find_envelope_name(file_path):\n",
    "    lines = []\n",
    "    with open(file_path, 'r') as rf:\n",
    "        lines = rf.readlines()\n",
    "\n",
    "    lists = lines.copy()\n",
    "\n",
    "    # Create a dictionary with line numbers and contents\n",
    "    words = {}\n",
    "    for idx, item in enumerate(lists):\n",
    "        words[idx] = item.strip()\n",
    "\n",
    "    # Prepare lists to store wall, roof, and floor names\n",
    "    wall_names = []\n",
    "    roof_names = []\n",
    "    floor_names = []\n",
    "\n",
    "    # Iterate through the lines to find BuildingSurface:Detailed objects\n",
    "    for key, val in words.items():\n",
    "        if 'BuildingSurface:Detailed' in val:\n",
    "            current_key = key\n",
    "            # Extract the surface name and exclude anything after '!'\n",
    "            surface_name = words[current_key + 3].split(',')[0].strip()\n",
    "\n",
    "            if \"Wall\" in words[current_key + 2]:\n",
    "                wall_names.append(surface_name)\n",
    "            elif \"Roof\" in words[current_key + 2]:\n",
    "                roof_names.append(surface_name)\n",
    "            elif \"Floor\" in words[current_key + 2]:\n",
    "                floor_names.append(surface_name)\n",
    "\n",
    "    return wall_names, roof_names, floor_names\n",
    "\n",
    "# Example usage\n",
    "file_path = rf\"C:\\Users\\Jayedi Aman\\Downloads\\BEM\\pcm_paper\\pcm_idf\\new\\{idf_file}\"\n",
    "wall_names, roof_names, floor_names = find_envelope_name(file_path)\n",
    "\n",
    "## set ensure one name appeared only once\n",
    "print(\"Walls:\", set(wall_names))\n",
    "print(\"Roofs:\", set(roof_names))\n",
    "print(\"Floors:\", set(floor_names))"
   ]
  },
  {
   "cell_type": "markdown",
   "metadata": {},
   "source": [
    "# 4. User input for material proprties "
   ]
  },
  {
   "cell_type": "code",
   "execution_count": 4,
   "metadata": {},
   "outputs": [],
   "source": [
    "# List of envelope names (walls, roofs, and floors) you want to edit\n",
    "walls = ['nonres_ext_wall_top', 'nonres_ext_wall_grd', 'nonres_ext_wall_mid']\n",
    "roofs = ['nonres_roof']\n",
    "floors = ['Core_bot_ZN_5_Floor_Ffactor']\n",
    "\n",
    "# Choose the envelope names you want to edit (can be a single item or a list of surfaces)\n",
    "_envelope_names = walls  # You can use 'walls', 'roofs', 'floors', or a combination like ['nonres_roof', 'nonres_ext_wall_top']\n",
    "\n",
    "_split_word = 'Layer ' # Where PCM layer will be added\n",
    "_pcm_layer = \"!- Layer 1\"\n",
    "\n",
    "# Example PCM to use\n",
    "pcm_mat = MaterialProperty('pcmboard')\n",
    "\n",
    "# PCM23\n",
    "# pcm_mat.material(0.025, 0.27, 1000, 2120)\n",
    "# pcm_mat.phasechange(-20.0, 0, 23, 55000, 24, 75000, 100, 165000)\n",
    "\n",
    "# PCM28\n",
    "pcm_mat.material(0.025, 0.25, 814, 2150)\n",
    "pcm_mat.phasechange(-20.0, 0, 28, 103200, 28.1, 226300, 100, 481000)\n",
    "_pcm_block = pcm_mat.pcmblock()"
   ]
  },
  {
   "cell_type": "markdown",
   "metadata": {},
   "source": [
    "# 5. Editing idf files with PCM properties"
   ]
  },
  {
   "cell_type": "code",
   "execution_count": 5,
   "metadata": {},
   "outputs": [
    {
     "name": "stdout",
     "output_type": "stream",
     "text": [
      "Finished processing ASHRAE901_OfficeMedium_STD2013_Fairbanks_pcm28.idf\n",
      "Finished processing ASHRAE901_OfficeMedium_STD2013_InternationalFalls_pcm28.idf\n",
      "Finished processing ASHRAE901_OfficeMedium_STD2013_Rochester_pcm28.idf\n"
     ]
    }
   ],
   "source": [
    "# Loop through each IDF file\n",
    "for file_name in idf_files:\n",
    "    file01 = os.path.abspath(file_name)  # Get absolute path of IDF file\n",
    "    file_path = file01\n",
    "\n",
    "    count = 0\n",
    "    for _envelope_name in _envelope_names:\n",
    "        # Create an instance of IDF_EDITING for each surface\n",
    "        file_object = IDF_EDITING(file01, _envelope_name, _split_word, _pcm_layer, _pcm_block)\n",
    "        \n",
    "        # Editing the entire IDF file with PCM properties\n",
    "        if count<=0:\n",
    "            file_object.create_idf()\n",
    "            \n",
    "        else:\n",
    "        # It will only create idf without appending PCM properties\n",
    "        # For PCM addition to more than one envelope, pcm properties need to include once in IDF.\n",
    "            file_object.create_idf__no_appending()\n",
    "\n",
    "        count+=1\n",
    "\n",
    "    print(f\"Finished processing {file_name}\")\n",
    "\n",
    "# ## Testing with one file only so loop is commented out  \n",
    "# file01 = os.path.abspath(idf_files[1])\n",
    "# file_object = IDF_EDITING(file01, _envelope_name, _split_word, _pcm_layer,  _pcm_block)\n",
    "# file_object.create_idf()"
   ]
  },
  {
   "cell_type": "markdown",
   "metadata": {},
   "source": [
    "# 6. Creating new directories for each idf file and run simulation "
   ]
  },
  {
   "cell_type": "code",
   "execution_count": 6,
   "metadata": {},
   "outputs": [
    {
     "name": "stdout",
     "output_type": "stream",
     "text": [
      "Simulation for ASHRAE901_OfficeMedium_STD2013_Fairbanks_pcm28.idf completed successfully.\n",
      "Simulation for ASHRAE901_OfficeMedium_STD2013_InternationalFalls_pcm28.idf completed successfully.\n",
      "Simulation for ASHRAE901_OfficeMedium_STD2013_Rochester_pcm28.idf completed successfully.\n"
     ]
    }
   ],
   "source": [
    "import os\n",
    "import subprocess\n",
    "\n",
    "def find_matching_epw(epw_directory, idf_filename):\n",
    "    base_name = idf_filename.replace(\"_pcm28\", \"\").split('_')[-1].split('.')[0]\n",
    "    # base_name = idf_filename.replace(\"_pcm23\", \"\").split('_')[-1].split('.')[0]\n",
    "    \n",
    "    for epw_file in os.listdir(epw_directory):\n",
    "        if epw_file.endswith('.epw') and base_name.lower() in epw_file.lower():\n",
    "            return os.path.join(epw_directory, epw_file)\n",
    "    return None\n",
    "\n",
    "def run_energyplus(idf_directory, epw_directory, eplus_dir):\n",
    "    for file_name in os.listdir(idf_directory):\n",
    "        if file_name.endswith('.idf'):\n",
    "            idf_filepath = os.path.join(idf_directory, file_name)\n",
    "            base_name = os.path.splitext(file_name)[0]\n",
    "            output_directory = os.path.join(idf_directory, f\"results_{base_name}\")\n",
    "\n",
    "            if not os.path.exists(output_directory):\n",
    "                os.makedirs(output_directory)\n",
    "\n",
    "            matched_epw = find_matching_epw(epw_directory, file_name)\n",
    "            if matched_epw:\n",
    "                cl_st = [\n",
    "                    f\"{eplus_dir}\\\\EnergyPlus\",\n",
    "                    \"--readvars\",  # included to create a .csv file of the results\n",
    "                    f\"--output-directory={output_directory}\",\n",
    "                    f\"--weather={matched_epw}\",\n",
    "                    idf_filepath,\n",
    "                ]\n",
    "\n",
    "                result = subprocess.run(cl_st, capture_output=True, text=True)\n",
    "\n",
    "                if result.returncode == 0:\n",
    "                    print(f\"Simulation for {file_name} completed successfully.\")\n",
    "                else:\n",
    "                    print(f\"Simulation for {file_name} failed.\")\n",
    "                    print(\"Error:\", result.stderr)\n",
    "            else:\n",
    "                print(f\"No matching .epw file found for {file_name}.\")\n",
    "\n",
    "# idf_directory = r'C:\\Users\\Jayedi Aman\\Downloads\\BEM\\ASHRAE_SO_2013\\pcm28'  # Path to .idf files\n",
    "# epw_directory = r'C:\\Users\\Jayedi Aman\\Downloads\\BEM\\ASHRAE901_epw'  # Path to .epw files\n",
    "\n",
    "idf_directory = r'C:\\Users\\Jayedi Aman\\Downloads\\BEM\\pcm_paper\\pcm_idf\\new'  # Path to .idf files\n",
    "epw_directory = r'C:\\Users\\Jayedi Aman\\Downloads\\BEM\\ASHRAE901_epw'  # Path to .epw files\n",
    "eplus_dir = r'C:\\EnergyPlusV22-1-0'  # Path to EnergyPlus installation\n",
    " \n",
    "run_energyplus(idf_directory, epw_directory, eplus_dir)"
   ]
  },
  {
   "cell_type": "code",
   "execution_count": null,
   "metadata": {},
   "outputs": [],
   "source": []
  },
  {
   "cell_type": "markdown",
   "metadata": {},
   "source": [
    "# F8 Metal deleted from Medium Office"
   ]
  },
  {
   "cell_type": "markdown",
   "metadata": {},
   "source": []
  }
 ],
 "metadata": {
  "kernelspec": {
   "display_name": "Python 3",
   "language": "python",
   "name": "python3"
  },
  "language_info": {
   "codemirror_mode": {
    "name": "ipython",
    "version": 3
   },
   "file_extension": ".py",
   "mimetype": "text/x-python",
   "name": "python",
   "nbconvert_exporter": "python",
   "pygments_lexer": "ipython3",
   "version": "3.13.1"
  }
 },
 "nbformat": 4,
 "nbformat_minor": 2
}
