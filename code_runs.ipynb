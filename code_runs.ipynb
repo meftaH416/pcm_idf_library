{
 "cells": [
  {
   "cell_type": "markdown",
   "metadata": {},
   "source": [
    "# 1. Importing Libraries including custom made"
   ]
  },
  {
   "cell_type": "code",
   "execution_count": 1,
   "metadata": {},
   "outputs": [],
   "source": [
    "import os \n",
    "import subprocess\n",
    "# Change the current working directory\n",
    "os.chdir(\"C:\\\\Users\\\\Downloads\\\\BEM\\\\pcm_paper\")\n",
    "\n",
    "from pcm_class import IDF_EDITING\n",
    "from pcm_block import MaterialProperty\n",
    "from copy_to_path import copy_to_dir"
   ]
  },
  {
   "cell_type": "markdown",
   "metadata": {},
   "source": [
    "# 2. Copy file from one directorty and added extension to name and copied to other directory"
   ]
  },
  {
   "cell_type": "code",
   "execution_count": 2,
   "metadata": {},
   "outputs": [],
   "source": [
    "import os\n",
    "# # Paths\n",
    "# dir1 = r\"C:\\Users\\Downloads\\BEM\\ASHRAE901_OfficeMedium_STD2013\"\n",
    "# dir2 = r\"C:\\Users\\Downloads\\BEM\\ASHRAE_SO_2013\\mediumPCM28\"\n",
    "# copy_to_dir(dir1, dir2, file_type='idf', extension='_pcm28.')\n",
    "\n",
    "#  Testing with one file\n",
    "dir1 = r\"C:\\Users\\Downloads\\BEM\\pcm_paper\\pcm_idf\"\n",
    "dir2 = r\"C:\\Users\\Downloads\\BEM\\pcm_paper\\pcm_idf\\new\"\n",
    "copy_to_dir(dir1, dir2,file_type='idf', extension='_pcm28.')"
   ]
  },
  {
   "cell_type": "markdown",
   "metadata": {},
   "source": [
    "# 3. Finding idf file names in the directory"
   ]
  },
  {
   "cell_type": "code",
   "execution_count": 3,
   "metadata": {},
   "outputs": [
    {
     "name": "stdout",
     "output_type": "stream",
     "text": [
      "['ASHRAE901_OfficeMedium_STD2013_Fairbanks_pcm28.idf', 'ASHRAE901_OfficeMedium_STD2013_InternationalFalls_pcm28.idf', 'ASHRAE901_OfficeMedium_STD2013_Rochester_pcm28.idf']\n"
     ]
    }
   ],
   "source": [
    "## List of idf in a folder\n",
    "import os\n",
    "def idf_file_list(file_path):\n",
    "    # Import necessary libraries\n",
    "    import os, glob, shutil\n",
    "    # Change directory to old idf files to work with\n",
    "    os.chdir(file_path)\n",
    "\n",
    "    # Getting names of all idf files only\n",
    "    files = glob.glob(\"*.idf\")\n",
    "    return files\n",
    "\n",
    "file_path = r\"C:\\Users\\Downloads\\BEM\\pcm_paper\\pcm_idf\\new\"\n",
    "idf_files = idf_file_list(file_path)\n",
    "print(idf_files)"
   ]
  },
  {
   "cell_type": "code",
   "execution_count": 4,
   "metadata": {},
   "outputs": [
    {
     "name": "stdout",
     "output_type": "stream",
     "text": [
      "Walls: {'nonres_ext_wall_grd', 'nonres_ext_wall_mid', 'int_wall', 'nonres_ext_wall_top'}\n",
      "Roofs: {'nonres_roof'}\n",
      "Floors: {'Perimeter_bot_ZN_2_Floor_Ffactor', 'Perimeter_bot_ZN_4_Floor_Ffactor', 'Perimeter_bot_ZN_3_Floor_Ffactor', 'int_slab_floor', 'Core_bot_ZN_5_Floor_Ffactor', 'Perimeter_bot_ZN_1_Floor_Ffactor'}\n"
     ]
    }
   ],
   "source": [
    "## Find the name of wall/roof/floor\n",
    "idf_file = idf_files[0] # choose just any one of the idf file\n",
    "\n",
    "def find_envelope_name(file_path):\n",
    "    lines = []\n",
    "    with open(file_path, 'r') as rf:\n",
    "        lines = rf.readlines()\n",
    "\n",
    "    lists = lines.copy()\n",
    "\n",
    "    # Create a dictionary with line numbers and contents\n",
    "    words = {}\n",
    "    for idx, item in enumerate(lists):\n",
    "        words[idx] = item.strip()\n",
    "\n",
    "    # Prepare lists to store wall, roof, and floor names\n",
    "    wall_names = []\n",
    "    roof_names = []\n",
    "    floor_names = []\n",
    "\n",
    "    # Iterate through the lines to find BuildingSurface:Detailed objects\n",
    "    for key, val in words.items():\n",
    "        if 'BuildingSurface:Detailed' in val:\n",
    "            current_key = key\n",
    "            # Extract the surface name and exclude anything after '!'\n",
    "            surface_name = words[current_key + 3].split(',')[0].strip()\n",
    "\n",
    "            if \"Wall\" in words[current_key + 2]:\n",
    "                wall_names.append(surface_name)\n",
    "            elif \"Roof\" in words[current_key + 2]:\n",
    "                roof_names.append(surface_name)\n",
    "            elif \"Floor\" in words[current_key + 2]:\n",
    "                floor_names.append(surface_name)\n",
    "\n",
    "    return wall_names, roof_names, floor_names\n",
    "\n",
    "# Example usage\n",
    "file_path = rf\"C:\\Users\\Downloads\\BEM\\pcm_paper\\pcm_idf\\new\\{idf_file}\"\n",
    "wall_names, roof_names, floor_names = find_envelope_name(file_path)\n",
    "\n",
    "## set ensure one name appeared only once\n",
    "print(\"Walls:\", set(wall_names))\n",
    "print(\"Roofs:\", set(roof_names))\n",
    "print(\"Floors:\", set(floor_names))"
   ]
  },
  {
   "cell_type": "markdown",
   "metadata": {},
   "source": [
    "# 4. User input for material proprties "
   ]
  },
  {
   "cell_type": "code",
   "execution_count": 5,
   "metadata": {},
   "outputs": [],
   "source": [
    "# List of envelope names (walls, roofs, and floors) you want to edit\n",
    "walls = ['nonres_ext_wall_top', 'nonres_ext_wall_grd', 'nonres_ext_wall_mid']\n",
    "roofs = ['nonres_roof']\n",
    "floors = ['Core_bot_ZN_5_Floor_Ffactor']\n",
    "\n",
    "# Choose the envelope names you want to edit (can be a single item or a list of surfaces)\n",
    "_envelope_names = walls  # You can use 'walls', 'roofs', 'floors', or a combination like ['nonres_roof', 'nonres_ext_wall_top']\n",
    "\n",
    "_split_word = 'Layer ' # Where PCM layer will be added\n",
    "_pcm_layer = \"!- Layer 1\"\n",
    "\n",
    "# Example PCM to use\n",
    "pcm_mat = MaterialProperty('pcmboard')\n",
    "\n",
    "# PCM23\n",
    "# pcm_mat.material(0.025, 0.27, 1000, 2120)\n",
    "# pcm_mat.phasechange(-20.0, 0, 23, 55000, 24, 75000, 100, 165000)\n",
    "\n",
    "# PCM28\n",
    "pcm_mat.material(0.025, 0.25, 814, 2150)\n",
    "pcm_mat.phasechange(-20.0, 0, 28, 103200, 28.1, 226300, 100, 481000)\n",
    "_pcm_block = pcm_mat.pcmblock()"
   ]
  },
  {
   "cell_type": "markdown",
   "metadata": {},
   "source": [
    "# 5. Editing idf files with PCM properties"
   ]
  },
  {
   "cell_type": "code",
   "execution_count": null,
   "metadata": {},
   "outputs": [
    {
     "name": "stdout",
     "output_type": "stream",
     "text": [
      "Finished processing ASHRAE901_OfficeMedium_STD2013_Fairbanks_pcm28.idf\n",
      "Finished processing ASHRAE901_OfficeMedium_STD2013_InternationalFalls_pcm28.idf\n",
      "Finished processing ASHRAE901_OfficeMedium_STD2013_Rochester_pcm28.idf\n"
     ]
    }
   ],
   "source": [
    "# Loop through each IDF file\n",
    "for file_name in idf_files:\n",
    "    file01 = os.path.abspath(file_name)  # Get absolute path of IDF file\n",
    "    file_path = file01\n",
    "\n",
    "    count = 0 # counting number of enveoples to which PCM is added\n",
    "    for _envelope_name in _envelope_names:\n",
    "        # Create an instance of IDF_EDITING for each surface\n",
    "        file_object = IDF_EDITING(file01, _envelope_name, _split_word, _pcm_layer, _pcm_block)\n",
    "        \n",
    "        # Editing the entire IDF file with PCM properties\n",
    "        if count<=0:\n",
    "            file_object.create_idf()\n",
    "            \n",
    "        else:\n",
    "        # It will only create idf without appending PCM properties\n",
    "        # For PCM addition to more than one envelope, pcm properties need to include once in IDF.\n",
    "            file_object.create_idf__no_appending()\n",
    "\n",
    "        count+=1\n",
    "\n",
    "    print(f\"Finished processing {file_name}\")\n",
    "\n",
    "# ## Testing with one file only so loop is commented out  \n",
    "# file01 = os.path.abspath(idf_files[1])\n",
    "# file_object = IDF_EDITING(file01, _envelope_name, _split_word, _pcm_layer,  _pcm_block)\n",
    "# file_object.create_idf()"
   ]
  },
  {
   "cell_type": "markdown",
   "metadata": {},
   "source": [
    "# 6. Creating new directories for each idf file and run simulation "
   ]
  },
  {
   "cell_type": "code",
   "execution_count": null,
   "metadata": {},
   "outputs": [
    {
     "name": "stdout",
     "output_type": "stream",
     "text": [
      "Simulation for ASHRAE901_OfficeMedium_STD2013_Fairbanks_pcm28.idf completed successfully.\n",
      "Simulation for ASHRAE901_OfficeMedium_STD2013_InternationalFalls_pcm28.idf completed successfully.\n",
      "Simulation for ASHRAE901_OfficeMedium_STD2013_Rochester_pcm28.idf completed successfully.\n"
     ]
    }
   ],
   "source": [
    "import os\n",
    "import subprocess\n",
    "\n",
    "# List of simulation results' directory\n",
    "output_directory_list = []\n",
    "\n",
    "def find_matching_epw(epw_directory, idf_filename):\n",
    "    base_name = idf_filename.replace(\"_pcm28\", \"\").split('_')[-1].split('.')[0]\n",
    "    # base_name = idf_filename.replace(\"_pcm23\", \"\").split('_')[-1].split('.')[0]\n",
    "    \n",
    "    for epw_file in os.listdir(epw_directory):\n",
    "        if epw_file.endswith('.epw') and base_name.lower() in epw_file.lower():\n",
    "            return os.path.join(epw_directory, epw_file)\n",
    "    return None\n",
    "\n",
    "def run_energyplus(idf_directory, epw_directory, eplus_dir):\n",
    "    for file_name in os.listdir(idf_directory):\n",
    "        if file_name.endswith('.idf'):\n",
    "            idf_filepath = os.path.join(idf_directory, file_name)\n",
    "            base_name = os.path.splitext(file_name)[0]\n",
    "            output_directory = os.path.join(idf_directory, f\"results_{base_name}\")\n",
    "\n",
    "            if not os.path.exists(output_directory):\n",
    "                os.makedirs(output_directory)\n",
    "\n",
    "            output_directory_list.append(output_directory) \n",
    "            \n",
    "            matched_epw = find_matching_epw(epw_directory, file_name)\n",
    "            if matched_epw:\n",
    "                cl_st = [\n",
    "                    f\"{eplus_dir}\\\\EnergyPlus\",\n",
    "                    \"--readvars\",  # included to create a .csv file of the results\n",
    "                    f\"--output-directory={output_directory}\",\n",
    "                    f\"--weather={matched_epw}\",\n",
    "                    idf_filepath,\n",
    "                ]\n",
    "\n",
    "                result = subprocess.run(cl_st, capture_output=True, text=True)\n",
    "\n",
    "                if result.returncode == 0:\n",
    "                    print(f\"Simulation for {file_name} completed successfully.\")\n",
    "                else:\n",
    "                    print(f\"Simulation for {file_name} failed.\")\n",
    "                    print(\"Error:\", result.stderr)\n",
    "            else:\n",
    "                print(f\"No matching .epw file found for {file_name}.\")\n",
    "\n",
    "# idf_directory = r'C:\\Users\\Downloads\\BEM\\ASHRAE_SO_2013\\pcm28'  # Path to .idf files\n",
    "# epw_directory = r'C:\\Users\\Downloads\\BEM\\ASHRAE901_epw'  # Path to .epw files\n",
    "\n",
    "idf_directory = r'C:\\Users\\Downloads\\BEM\\pcm_paper\\pcm_idf\\new'  # Path to .idf files\n",
    "epw_directory = r'C:\\Users\\Downloads\\BEM\\ASHRAE901_epw'  # Path to .epw files\n",
    "eplus_dir = r'C:\\EnergyPlusV22-1-0'  # Path to EnergyPlus installation\n",
    " \n",
    "run_energyplus(idf_directory, epw_directory, eplus_dir)"
   ]
  },
  {
   "cell_type": "markdown",
   "metadata": {},
   "source": [
    "# 7. Getting results"
   ]
  },
  {
   "cell_type": "code",
   "execution_count": 22,
   "metadata": {},
   "outputs": [
    {
     "name": "stdout",
     "output_type": "stream",
     "text": [
      "['C:\\\\Users\\\\Downloads\\\\BEM\\\\pcm_paper\\\\pcm_idf\\\\new\\\\results_ASHRAE901_OfficeMedium_STD2013_Fairbanks_pcm28', 'C:\\\\Users\\\\Downloads\\\\BEM\\\\pcm_paper\\\\pcm_idf\\\\new\\\\results_ASHRAE901_OfficeMedium_STD2013_InternationalFalls_pcm28', 'C:\\\\Users\\\\Jayedi Aman\\\\Downloads\\\\BEM\\\\pcm_paper\\\\pcm_idf\\\\new\\\\results_ASHRAE901_OfficeMedium_STD2013_Rochester_pcm28']\n"
     ]
    }
   ],
   "source": [
    "## Printing the new created folders with simulation results \n",
    "print(output_directory_list)"
   ]
  },
  {
   "cell_type": "code",
   "execution_count": 25,
   "metadata": {},
   "outputs": [
    {
     "name": "stderr",
     "output_type": "stream",
     "text": [
      "C:\\Users\\AppData\\Local\\Temp\\ipykernel_1264\\534154968.py:68: FutureWarning: The behavior of DataFrame concatenation with empty or all-NA entries is deprecated. In a future version, this will no longer exclude empty or all-NA columns when determining the result dtypes. To retain the old behavior, exclude the relevant entries before the concat operation.\n",
      "  df_results = pd.concat([df_results, new_row], ignore_index=True)\n"
     ]
    },
    {
     "name": "stdout",
     "output_type": "stream",
     "text": [
      "                                         Folder Name     File Name  \\\n",
      "0  results_ASHRAE901_OfficeMedium_STD2013_Fairban...  eplustbl.htm   \n",
      "1  results_ASHRAE901_OfficeMedium_STD2013_Interna...  eplustbl.htm   \n",
      "2  results_ASHRAE901_OfficeMedium_STD2013_Rochest...  eplustbl.htm   \n",
      "\n",
      "   Heating Load (GJ)  Cooling Load (GJ)  Fan Load (GJ)  Total HVAC Load (GJ)  \n",
      "0             855.22              51.84          95.09               1002.15  \n",
      "1             503.93             121.02          98.86                723.81  \n",
      "2             681.99             160.72          98.89                941.60  \n"
     ]
    }
   ],
   "source": [
    "import os\n",
    "import glob\n",
    "import pandas as pd\n",
    "from bs4 import BeautifulSoup\n",
    "\n",
    "def htm_file_list(directory):\n",
    "    \"\"\"Returns a list of .htm files in the given directory.\"\"\"\n",
    "    if not os.path.isdir(directory):\n",
    "        raise NotADirectoryError(f\"{directory} is not a valid directory.\")\n",
    "    return glob.glob(os.path.join(directory, \"*.htm\"))\n",
    "\n",
    "\n",
    "def extract_heating_cooling_loads(html_file):\n",
    "    \"\"\"Extracts total heating and cooling load from an EnergyPlus HTML report.\"\"\"\n",
    "    with open(html_file, 'r', encoding='utf-8') as file:\n",
    "        soup = BeautifulSoup(file, 'html.parser')\n",
    "\n",
    "    # Locate \"End Uses\" table\n",
    "    end_uses_tag = soup.find('b', string=\"End Uses\")\n",
    "    if not end_uses_tag:\n",
    "        return None, None  # No table found, return None values\n",
    "\n",
    "    target_table = end_uses_tag.find_next('table')\n",
    "    if not target_table:\n",
    "        return None, None  # No table found\n",
    "\n",
    "    # Initialize load values\n",
    "    heating_load = 0.0\n",
    "    cooling_load = 0.0\n",
    "    fan_load = 0.0\n",
    "\n",
    "    # Process table rows\n",
    "    rows = target_table.find_all('tr')[1:]  # Skip header row\n",
    "    for row in rows:\n",
    "        cols = row.find_all('td')\n",
    "        end_use = cols[0].text.strip().lower()\n",
    "\n",
    "        if end_use == \"heating\":\n",
    "            heating_load = sum(float(col.text.strip()) for col in cols[1:])\n",
    "        elif end_use == \"cooling\":\n",
    "            cooling_load = sum(float(col.text.strip()) for col in cols[1:])\n",
    "        elif end_use == \"fans\":\n",
    "            fan_load = sum(float(col.text.strip()) for col in cols[1:])\n",
    "\n",
    "\n",
    "    return heating_load, cooling_load, fan_load\n",
    "\n",
    "# Initialize DataFrame\n",
    "df_results = pd.DataFrame(columns=['Folder Name', 'File Name', 'Heating Load (GJ)', 'Cooling Load (GJ)', 'Fan Load (GJ)', 'Total HVAC Load (GJ)'])\n",
    "\n",
    "# Process all output directories\n",
    "for folder in output_directory_list:\n",
    "    folder = os.path.abspath(folder)  # Ensure absolute path\n",
    "    try:\n",
    "        htm_files = htm_file_list(folder)\n",
    "        folder_name = os.path.basename(folder)  # Extract the last directory name\n",
    "\n",
    "        for htm_file in htm_files:\n",
    "\n",
    "            heating, cooling, fan = extract_heating_cooling_loads(htm_file)\n",
    "            total = float(heating) + float(cooling) + float(fan)\n",
    "\n",
    "            if heating is not None and cooling is not None:\n",
    "                new_row = pd.DataFrame([[folder_name, os.path.basename(htm_file), heating, cooling, fan, total]], \n",
    "                       columns=['Folder Name', 'File Name', 'Heating Load (GJ)', 'Cooling Load (GJ)', 'Fan Load (GJ)', 'Total HVAC Load (GJ)'])\n",
    "\n",
    "                if not new_row.isna().all().all():  # Check if the new row is not all NaN\n",
    "                    df_results = pd.concat([df_results, new_row], ignore_index=True)\n",
    "\n",
    "    except NotADirectoryError as e:\n",
    "        print(e)\n",
    "\n",
    "# Save results to a CSV file\n",
    "output_csv = os.path.join(os.getcwd(), \"heating_cooling_loads.csv\")\n",
    "df_results.to_csv(output_csv, index=False)\n",
    "\n",
    "# Display final DataFrame\n",
    "print(df_results)\n"
   ]
  },
  {
   "cell_type": "markdown",
   "metadata": {},
   "source": [
    "# F8 Metal deleted from Medium Office"
   ]
  },
  {
   "cell_type": "markdown",
   "metadata": {},
   "source": []
  }
 ],
 "metadata": {
  "kernelspec": {
   "display_name": "Python 3",
   "language": "python",
   "name": "python3"
  },
  "language_info": {
   "codemirror_mode": {
    "name": "ipython",
    "version": 3
   },
   "file_extension": ".py",
   "mimetype": "text/x-python",
   "name": "python",
   "nbconvert_exporter": "python",
   "pygments_lexer": "ipython3",
   "version": "3.13.1"
  }
 },
 "nbformat": 4,
 "nbformat_minor": 2
}
