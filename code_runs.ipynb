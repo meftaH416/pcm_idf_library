{
 "cells": [
  {
   "cell_type": "code",
   "execution_count": 1,
   "metadata": {},
   "outputs": [],
   "source": [
    "import os \n",
    "# Change the current working directory\n",
    "os.chdir(\"C:\\\\Users\\\\Downloads\\\\BEM\\\\pcm_paper\")\n",
    "\n",
    "from pcm_class import IDF_EDITING\n",
    "from pcm_block import MaterialProperty\n",
    "from copy_to_path import copy_to_dir"
   ]
  },
  {
   "cell_type": "code",
   "execution_count": 2,
   "metadata": {},
   "outputs": [],
   "source": [
    "import os\n",
    "# Paths\n",
    "dir1 = r\"C:\\Users\\Downloads\\BEM\\ASHRAE901_OfficeSmall__STD2013\"\n",
    "dir2 = r\"C:\\Users\\Downloads\\BEM\\pcm_paper\\pcm_idf\"\n",
    "\n",
    "copy_to_dir(dir1, dir2)"
   ]
  },
  {
   "cell_type": "code",
   "execution_count": 3,
   "metadata": {},
   "outputs": [],
   "source": [
    "## appending pcm properties to idf\n",
    "# file01 = \"\"\n",
    "_envelope_name = 'nonres_ext_wall_grd'\n",
    "_split_word = '!- Layer #' # Where PCM layer will be added\n",
    "_pcm_layer = \"!- Layer 1\"\n",
    "\n",
    "\n",
    "# Example to use\n",
    "pcm_mat = MaterialProperty('pcmboard')\n",
    "pcm_mat.material(0.025, 0.27, 1000, 2120)\n",
    "pcm_mat.phasechange(-20.0, 0, 23, 55000, 24, 75000, 100, 165000)\n",
    "_pcm_block = pcm_mat.pcmblock()"
   ]
  },
  {
   "cell_type": "code",
   "execution_count": 4,
   "metadata": {},
   "outputs": [
    {
     "name": "stdout",
     "output_type": "stream",
     "text": [
      "['ASHRAE901_OfficeSmall_STD2013_Albuquerque_pcm23.idf', 'ASHRAE901_OfficeSmall_STD2013_Atlanta_pcm23.idf', 'ASHRAE901_OfficeSmall_STD2013_Buffalo_pcm23.idf', 'ASHRAE901_OfficeSmall_STD2013_Denver_pcm23.idf', 'ASHRAE901_OfficeSmall_STD2013_Dubai_pcm23.idf', 'ASHRAE901_OfficeSmall_STD2013_ElPaso_pcm23.idf', 'ASHRAE901_OfficeSmall_STD2013_Fairbanks_pcm23.idf', 'ASHRAE901_OfficeSmall_STD2013_GreatFalls_pcm23.idf', 'ASHRAE901_OfficeSmall_STD2013_HoChiMinh_pcm23.idf', 'ASHRAE901_OfficeSmall_STD2013_InternationalFalls_pcm23.idf', 'ASHRAE901_OfficeSmall_STD2013_Miami_pcm23.idf', 'ASHRAE901_OfficeSmall_STD2013_NewDelhi_pcm23.idf', 'ASHRAE901_OfficeSmall_STD2013_NewYork_pcm23.idf', 'ASHRAE901_OfficeSmall_STD2013_PortAngeles_pcm23.idf', 'ASHRAE901_OfficeSmall_STD2013_Rochester_pcm23.idf', 'ASHRAE901_OfficeSmall_STD2013_SanDiego_pcm23.idf', 'ASHRAE901_OfficeSmall_STD2013_Seattle_pcm23.idf', 'ASHRAE901_OfficeSmall_STD2013_Tampa_pcm23.idf', 'ASHRAE901_OfficeSmall_STD2013_Tucson_pcm23.idf']\n"
     ]
    }
   ],
   "source": [
    "## List of idf in a folder\n",
    "import os\n",
    "def idf_file_list(file_path):\n",
    "    # Import necessary libraries\n",
    "    import os, glob, shutil\n",
    "    # Change directory to old idf files to work with\n",
    "    os.chdir(file_path)\n",
    "    # Getting names of all idf files only\n",
    "    files = glob.glob(\"*.idf\")\n",
    "    return files\n",
    "\n",
    "file_path = r\"C:\\Users\\Downloads\\BEM\\pcm_paper\\pcm_idf\"\n",
    "idf_files = idf_file_list(file_path)\n",
    "print(idf_files)"
   ]
  },
  {
   "cell_type": "code",
   "execution_count": 5,
   "metadata": {},
   "outputs": [],
   "source": [
    "for ii in range(len(idf_files)):\n",
    "    file01 = os.path.abspath(idf_files[ii])\n",
    "    file_path = file01\n",
    "    \n",
    "    idf_final_dict = {}\n",
    "    file_object = IDF_EDITING(file01, _envelope_name, _split_word, _pcm_layer,  _pcm_block)\n",
    "    file_object.create_idf()"
   ]
  }
 ],
 "metadata": {
  "kernelspec": {
   "display_name": "Python 3",
   "language": "python",
   "name": "python3"
  },
  "language_info": {
   "codemirror_mode": {
    "name": "ipython",
    "version": 3
   },
   "file_extension": ".py",
   "mimetype": "text/x-python",
   "name": "python",
   "nbconvert_exporter": "python",
   "pygments_lexer": "ipython3",
   "version": "3.13.1"
  }
 },
 "nbformat": 4,
 "nbformat_minor": 2
}
